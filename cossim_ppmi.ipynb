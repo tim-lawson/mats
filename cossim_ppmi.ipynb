{
 "cells": [
  {
   "cell_type": "code",
   "execution_count": null,
   "metadata": {},
   "outputs": [],
   "source": [
    "import pandas as pd\n",
    "\n",
    "df = pd.read_csv(\"cossim_ppmi.csv\")\n",
    "\n",
    "d_sae = 24576\n",
    "df[\"layer_i\"] = df[\"latent_i\"] // d_sae\n",
    "df[\"layer_j\"] = df[\"latent_j\"] // d_sae\n",
    "df[\"latent_i\"] = df[\"latent_i\"] % d_sae\n",
    "df[\"latent_j\"] = df[\"latent_j\"] % d_sae\n",
    "\n",
    "layer_i = df[\"layer_i\"].astype(str).str.zfill(2)\n",
    "layer_j = df[\"layer_j\"].astype(str).str.zfill(2)\n",
    "df[\"layers\"] = layer_i + \"-\" + layer_j\n",
    "df = df.sort_values(\"layers\")\n",
    "\n",
    "df = df[df[\"latent_i\"] != df[\"latent_j\"]]\n",
    "df[\"cossim_ppmi\"] = df[\"cossim\"] * df[\"ppmi\"]\n",
    "\n",
    "print(df.head())"
   ]
  },
  {
   "cell_type": "code",
   "execution_count": null,
   "metadata": {},
   "outputs": [],
   "source": [
    "import seaborn as sns\n",
    "\n",
    "ax = sns.scatterplot(df[df[\"layer_i\"] == 11], x=\"cossim\", y=\"ppmi\", hue=\"layers\", s=5)\n",
    "ax.set_xlim(-1.25, 1.25)\n",
    "ax.set_ylim(0)"
   ]
  },
  {
   "cell_type": "code",
   "execution_count": null,
   "metadata": {},
   "outputs": [],
   "source": [
    "df = df.sort_values(\"cossim_ppmi\", ascending=False)\n",
    "df.head(20)"
   ]
  },
  {
   "cell_type": "code",
   "execution_count": null,
   "metadata": {},
   "outputs": [],
   "source": [
    "df01 = df[df[\"layer_i\"] == 0]\n",
    "df01 = df01[df01[\"layer_j\"] == 1]\n",
    "df01.sort_values(\"cossim\", ascending=False).head(20)"
   ]
  },
  {
   "cell_type": "code",
   "execution_count": null,
   "metadata": {},
   "outputs": [],
   "source": []
  }
 ],
 "metadata": {
  "kernelspec": {
   "display_name": ".env",
   "language": "python",
   "name": "python3"
  },
  "language_info": {
   "codemirror_mode": {
    "name": "ipython",
    "version": 3
   },
   "file_extension": ".py",
   "mimetype": "text/x-python",
   "name": "python",
   "nbconvert_exporter": "python",
   "pygments_lexer": "ipython3",
   "version": "3.12.3"
  }
 },
 "nbformat": 4,
 "nbformat_minor": 2
}
