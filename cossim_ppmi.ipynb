{
 "cells": [
  {
   "cell_type": "code",
   "execution_count": null,
   "metadata": {},
   "outputs": [],
   "source": [
    "import pandas as pd\n",
    "\n",
    "d_sae = 24576\n",
    "df = pd.read_csv(\"cossim_ppmi.csv\")\n",
    "df[\"layer_i\"] = df[\"latent_i\"] // d_sae\n",
    "df[\"layer_j\"] = df[\"latent_j\"] // d_sae\n",
    "df[\"latent_i\"] = df[\"latent_i\"] % d_sae\n",
    "df[\"latent_j\"] = df[\"latent_j\"] % d_sae\n",
    "df[\"layers\"] = df[\"layer_i\"].astype(str) + \"-\" + df[\"layer_j\"].astype(str)\n",
    "df = df.sort_values(\"layers\")\n",
    "\n",
    "print(df.head())"
   ]
  },
  {
   "cell_type": "code",
   "execution_count": null,
   "metadata": {},
   "outputs": [],
   "source": [
    "import seaborn as sns\n",
    "\n",
    "ax = sns.scatterplot(df, x=\"cossim\", y=\"ppmi\", hue=\"layers\", s=5)\n",
    "ax.set_xlim(-1.25, 1.25)\n",
    "ax.set_ylim(0)"
   ]
  },
  {
   "cell_type": "code",
   "execution_count": null,
   "metadata": {},
   "outputs": [],
   "source": [
    "df = df[df[\"latent_i\"] != df[\"latent_j\"]]\n",
    "df[\"cossim_ppmi\"] = df[\"cossim\"] * df[\"ppmi\"]\n",
    "df = df.sort_values(\"cossim_ppmi\", ascending=False)\n",
    "df.head(10)"
   ]
  },
  {
   "cell_type": "code",
   "execution_count": null,
   "metadata": {},
   "outputs": [],
   "source": []
  }
 ],
 "metadata": {
  "kernelspec": {
   "display_name": ".env",
   "language": "python",
   "name": "python3"
  },
  "language_info": {
   "codemirror_mode": {
    "name": "ipython",
    "version": 3
   },
   "file_extension": ".py",
   "mimetype": "text/x-python",
   "name": "python",
   "nbconvert_exporter": "python",
   "pygments_lexer": "ipython3",
   "version": "3.12.3"
  }
 },
 "nbformat": 4,
 "nbformat_minor": 2
}
